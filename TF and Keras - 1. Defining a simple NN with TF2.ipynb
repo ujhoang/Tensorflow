{
 "cells": [
  {
   "cell_type": "code",
   "execution_count": 1,
   "metadata": {},
   "outputs": [],
   "source": [
    "import numpy as np\n",
    "import tensorflow as tf\n",
    "from tensorflow import keras"
   ]
  },
  {
   "cell_type": "code",
   "execution_count": 2,
   "metadata": {},
   "outputs": [],
   "source": [
    "EPOCHS = 100\n",
    "BATCH_SIZE = 128\n",
    "VEBOSE = 1\n",
    "NB_CLASSES = 10  # number of outpits = number of digits [0,1,2,3,4,5,6,7,8,9]\n",
    "N_HIDDEN = 128\n",
    "VALIDATION_SPLIT = 0.2"
   ]
  },
  {
   "cell_type": "code",
   "execution_count": 3,
   "metadata": {},
   "outputs": [],
   "source": [
    "# Loading the mnist dataset\n",
    "mnist = keras.datasets.mnist\n",
    "(X_train, y_train), (X_test, y_test) = mnist.load_data()"
   ]
  },
  {
   "cell_type": "code",
   "execution_count": 4,
   "metadata": {},
   "outputs": [
    {
     "name": "stdout",
     "output_type": "stream",
     "text": [
      "rows :  60000\n",
      "shape:  (28, 28)\n",
      "28x28: 784\n"
     ]
    }
   ],
   "source": [
    "# X_train contains 60,000 rows of (28x28) values\n",
    "# Change this to 60,000 rows and 784 columns (784 = 28x28)\n",
    "print(\"rows : \",len(X_train))\n",
    "print(\"shape: \",X_train[0].shape)\n",
    "print(\"28x28:\", 28*28)"
   ]
  },
  {
   "cell_type": "code",
   "execution_count": 5,
   "metadata": {},
   "outputs": [
    {
     "name": "stdout",
     "output_type": "stream",
     "text": [
      "60000\n",
      "10000\n"
     ]
    }
   ],
   "source": [
    "# Reshaping to 60,000 rows and 784 columns\n",
    "RESHAPED = 784\n",
    "X_train = X_train.reshape(60000, RESHAPED)\n",
    "X_test = X_test.reshape(-1, RESHAPED)\n",
    "X_train= X_train.astype('float32')\n",
    "X_test = X_test.astype('float32')\n",
    "\n",
    "# Normalise input to be within [0,1]\n",
    "X_train /= 255\n",
    "X_test /= 255\n",
    "\n",
    "print(X_train.shape[0])\n",
    "print(X_test.shape[0])"
   ]
  },
  {
   "cell_type": "code",
   "execution_count": 6,
   "metadata": {},
   "outputs": [],
   "source": [
    "# One-Hot encoding for the labels\n",
    "y_train = keras.utils.to_categorical(y_train, NB_CLASSES)\n",
    "y_test = keras.utils.to_categorical(y_test, NB_CLASSES)"
   ]
  },
  {
   "cell_type": "code",
   "execution_count": 7,
   "metadata": {},
   "outputs": [],
   "source": [
    "# Building the NN model\n",
    "model = tf.keras.models.Sequential()\n",
    "model.add(keras.layers.Dense(NB_CLASSES,\n",
    "                            input_shape=(RESHAPED,),\n",
    "                            name=\"dense_layer\",\n",
    "                            activation=\"softmax\"))"
   ]
  },
  {
   "cell_type": "code",
   "execution_count": 8,
   "metadata": {},
   "outputs": [],
   "source": [
    "# Now we've built the model\n",
    "# We need to compile it (so it can be excuted by TensorFlow 2.0)\n",
    "# To compile we need:\n",
    "# 1 Optimiser: Algorithm used to update weights when we train the model\n",
    "# 2 Objective function (Loss function)\n",
    "# 3 Evaluate the trained model\n",
    "model.compile(optimizer=\"SGD\", # Stochastic Gradient Descent is a optimisation algorithm used to reduce the mistaked made by neural networksl\n",
    "             loss=\"categorical_crossentropy\",\n",
    "             metrics=[\"accuracy\"])"
   ]
  },
  {
   "cell_type": "code",
   "execution_count": 9,
   "metadata": {
    "scrolled": true
   },
   "outputs": [
    {
     "name": "stdout",
     "output_type": "stream",
     "text": [
      "Epoch 1/100\n",
      "375/375 [==============================] - 5s 10ms/step - loss: 1.7687 - accuracy: 0.4764 - val_loss: 0.9029 - val_accuracy: 0.8196\n",
      "Epoch 2/100\n",
      "375/375 [==============================] - 2s 4ms/step - loss: 0.8624 - accuracy: 0.8151 - val_loss: 0.6613 - val_accuracy: 0.8545\n",
      "Epoch 3/100\n",
      "375/375 [==============================] - 2s 5ms/step - loss: 0.6680 - accuracy: 0.8457 - val_loss: 0.5644 - val_accuracy: 0.8674\n",
      "Epoch 4/100\n",
      "375/375 [==============================] - 2s 5ms/step - loss: 0.5829 - accuracy: 0.8580 - val_loss: 0.5108 - val_accuracy: 0.8769\n",
      "Epoch 5/100\n",
      "375/375 [==============================] - 2s 4ms/step - loss: 0.5344 - accuracy: 0.8676 - val_loss: 0.4760 - val_accuracy: 0.8817\n",
      "Epoch 6/100\n",
      "375/375 [==============================] - 2s 4ms/step - loss: 0.5040 - accuracy: 0.8712 - val_loss: 0.4518 - val_accuracy: 0.8851\n",
      "Epoch 7/100\n",
      "375/375 [==============================] - 2s 4ms/step - loss: 0.4750 - accuracy: 0.8776 - val_loss: 0.4334 - val_accuracy: 0.8892\n",
      "Epoch 8/100\n",
      "375/375 [==============================] - 2s 4ms/step - loss: 0.4654 - accuracy: 0.8786 - val_loss: 0.4193 - val_accuracy: 0.8902\n",
      "Epoch 9/100\n",
      "375/375 [==============================] - 2s 4ms/step - loss: 0.4467 - accuracy: 0.8811 - val_loss: 0.4073 - val_accuracy: 0.8942\n",
      "Epoch 10/100\n",
      "375/375 [==============================] - 2s 5ms/step - loss: 0.4398 - accuracy: 0.8818 - val_loss: 0.3977 - val_accuracy: 0.8962\n",
      "Epoch 11/100\n",
      "375/375 [==============================] - 2s 4ms/step - loss: 0.4261 - accuracy: 0.8859 - val_loss: 0.3896 - val_accuracy: 0.8966\n",
      "Epoch 12/100\n",
      "375/375 [==============================] - 2s 4ms/step - loss: 0.4173 - accuracy: 0.8873 - val_loss: 0.3826 - val_accuracy: 0.8984\n",
      "Epoch 13/100\n",
      "375/375 [==============================] - 2s 4ms/step - loss: 0.4092 - accuracy: 0.8890 - val_loss: 0.3763 - val_accuracy: 0.8997\n",
      "Epoch 14/100\n",
      "375/375 [==============================] - 2s 4ms/step - loss: 0.4043 - accuracy: 0.8907 - val_loss: 0.3709 - val_accuracy: 0.9003\n",
      "Epoch 15/100\n",
      "375/375 [==============================] - 2s 4ms/step - loss: 0.3985 - accuracy: 0.8916 - val_loss: 0.3661 - val_accuracy: 0.9017\n",
      "Epoch 16/100\n",
      "375/375 [==============================] - 2s 4ms/step - loss: 0.3900 - accuracy: 0.8941 - val_loss: 0.3619 - val_accuracy: 0.9022\n",
      "Epoch 17/100\n",
      "375/375 [==============================] - 2s 4ms/step - loss: 0.3858 - accuracy: 0.8945 - val_loss: 0.3580 - val_accuracy: 0.9030\n",
      "Epoch 18/100\n",
      "375/375 [==============================] - 2s 4ms/step - loss: 0.3835 - accuracy: 0.8958 - val_loss: 0.3544 - val_accuracy: 0.9043\n",
      "Epoch 19/100\n",
      "375/375 [==============================] - 2s 4ms/step - loss: 0.3744 - accuracy: 0.8955 - val_loss: 0.3511 - val_accuracy: 0.9046\n",
      "Epoch 20/100\n",
      "375/375 [==============================] - 2s 4ms/step - loss: 0.3714 - accuracy: 0.8967 - val_loss: 0.3481 - val_accuracy: 0.9052\n",
      "Epoch 21/100\n",
      "375/375 [==============================] - 2s 4ms/step - loss: 0.3664 - accuracy: 0.9001 - val_loss: 0.3454 - val_accuracy: 0.9052\n",
      "Epoch 22/100\n",
      "375/375 [==============================] - 2s 4ms/step - loss: 0.3661 - accuracy: 0.8976 - val_loss: 0.3427 - val_accuracy: 0.9066\n",
      "Epoch 23/100\n",
      "375/375 [==============================] - 2s 4ms/step - loss: 0.3698 - accuracy: 0.8974 - val_loss: 0.3404 - val_accuracy: 0.9072\n",
      "Epoch 24/100\n",
      "375/375 [==============================] - 2s 4ms/step - loss: 0.3625 - accuracy: 0.8990 - val_loss: 0.3384 - val_accuracy: 0.9073\n",
      "Epoch 25/100\n",
      "375/375 [==============================] - 2s 4ms/step - loss: 0.3569 - accuracy: 0.9012 - val_loss: 0.3361 - val_accuracy: 0.9085\n",
      "Epoch 26/100\n",
      "375/375 [==============================] - 2s 4ms/step - loss: 0.3591 - accuracy: 0.8998 - val_loss: 0.3342 - val_accuracy: 0.9089\n",
      "Epoch 27/100\n",
      "375/375 [==============================] - 2s 4ms/step - loss: 0.3522 - accuracy: 0.9015 - val_loss: 0.3324 - val_accuracy: 0.9091\n",
      "Epoch 28/100\n",
      "375/375 [==============================] - 2s 4ms/step - loss: 0.3453 - accuracy: 0.9036 - val_loss: 0.3306 - val_accuracy: 0.9093\n",
      "Epoch 29/100\n",
      "375/375 [==============================] - 2s 4ms/step - loss: 0.3551 - accuracy: 0.9003 - val_loss: 0.3289 - val_accuracy: 0.9097\n",
      "Epoch 30/100\n",
      "375/375 [==============================] - 2s 4ms/step - loss: 0.3388 - accuracy: 0.9063 - val_loss: 0.3274 - val_accuracy: 0.9103\n",
      "Epoch 31/100\n",
      "375/375 [==============================] - 2s 4ms/step - loss: 0.3484 - accuracy: 0.9018 - val_loss: 0.3259 - val_accuracy: 0.9108\n",
      "Epoch 32/100\n",
      "375/375 [==============================] - 2s 4ms/step - loss: 0.3383 - accuracy: 0.9069 - val_loss: 0.3245 - val_accuracy: 0.9117\n",
      "Epoch 33/100\n",
      "375/375 [==============================] - 2s 4ms/step - loss: 0.3423 - accuracy: 0.9049 - val_loss: 0.3232 - val_accuracy: 0.9117\n",
      "Epoch 34/100\n",
      "375/375 [==============================] - 2s 4ms/step - loss: 0.3368 - accuracy: 0.9068 - val_loss: 0.3219 - val_accuracy: 0.9119\n",
      "Epoch 35/100\n",
      "375/375 [==============================] - 2s 5ms/step - loss: 0.3449 - accuracy: 0.9044 - val_loss: 0.3207 - val_accuracy: 0.9126\n",
      "Epoch 36/100\n",
      "375/375 [==============================] - 2s 4ms/step - loss: 0.3351 - accuracy: 0.9078 - val_loss: 0.3194 - val_accuracy: 0.9127\n",
      "Epoch 37/100\n",
      "375/375 [==============================] - 2s 4ms/step - loss: 0.3365 - accuracy: 0.9046 - val_loss: 0.3184 - val_accuracy: 0.9128\n",
      "Epoch 38/100\n",
      "375/375 [==============================] - 2s 4ms/step - loss: 0.3358 - accuracy: 0.9051 - val_loss: 0.3172 - val_accuracy: 0.9131\n",
      "Epoch 39/100\n",
      "375/375 [==============================] - 2s 4ms/step - loss: 0.3352 - accuracy: 0.9056 - val_loss: 0.3163 - val_accuracy: 0.9132\n",
      "Epoch 40/100\n",
      "375/375 [==============================] - 2s 4ms/step - loss: 0.3310 - accuracy: 0.9068 - val_loss: 0.3153 - val_accuracy: 0.9133\n",
      "Epoch 41/100\n",
      "375/375 [==============================] - 2s 4ms/step - loss: 0.3283 - accuracy: 0.9078 - val_loss: 0.3144 - val_accuracy: 0.9135\n",
      "Epoch 42/100\n",
      "375/375 [==============================] - 2s 4ms/step - loss: 0.3267 - accuracy: 0.9088 - val_loss: 0.3135 - val_accuracy: 0.9140\n",
      "Epoch 43/100\n",
      "375/375 [==============================] - 2s 4ms/step - loss: 0.3253 - accuracy: 0.9105 - val_loss: 0.3126 - val_accuracy: 0.9143\n",
      "Epoch 44/100\n",
      "375/375 [==============================] - 2s 4ms/step - loss: 0.3276 - accuracy: 0.9099 - val_loss: 0.3118 - val_accuracy: 0.9147\n",
      "Epoch 45/100\n",
      "375/375 [==============================] - 2s 4ms/step - loss: 0.3253 - accuracy: 0.9089 - val_loss: 0.3110 - val_accuracy: 0.9147\n",
      "Epoch 46/100\n",
      "375/375 [==============================] - 2s 4ms/step - loss: 0.3168 - accuracy: 0.9115 - val_loss: 0.3101 - val_accuracy: 0.9153\n",
      "Epoch 47/100\n",
      "375/375 [==============================] - 2s 4ms/step - loss: 0.3248 - accuracy: 0.9096 - val_loss: 0.3094 - val_accuracy: 0.9153\n",
      "Epoch 48/100\n",
      "375/375 [==============================] - 2s 4ms/step - loss: 0.3228 - accuracy: 0.9104 - val_loss: 0.3086 - val_accuracy: 0.9162\n",
      "Epoch 49/100\n",
      "375/375 [==============================] - 2s 4ms/step - loss: 0.3196 - accuracy: 0.9109 - val_loss: 0.3080 - val_accuracy: 0.9159\n",
      "Epoch 50/100\n",
      "375/375 [==============================] - 2s 4ms/step - loss: 0.3240 - accuracy: 0.9082 - val_loss: 0.3072 - val_accuracy: 0.9163\n",
      "Epoch 51/100\n",
      "375/375 [==============================] - 2s 4ms/step - loss: 0.3197 - accuracy: 0.9116 - val_loss: 0.3066 - val_accuracy: 0.9166\n",
      "Epoch 52/100\n",
      "375/375 [==============================] - 2s 4ms/step - loss: 0.3221 - accuracy: 0.9122 - val_loss: 0.3059 - val_accuracy: 0.9171\n",
      "Epoch 53/100\n",
      "375/375 [==============================] - 2s 4ms/step - loss: 0.3101 - accuracy: 0.9130 - val_loss: 0.3052 - val_accuracy: 0.9166\n",
      "Epoch 54/100\n",
      "375/375 [==============================] - 2s 4ms/step - loss: 0.3225 - accuracy: 0.9103 - val_loss: 0.3047 - val_accuracy: 0.9165\n",
      "Epoch 55/100\n",
      "375/375 [==============================] - 2s 4ms/step - loss: 0.3171 - accuracy: 0.9119 - val_loss: 0.3042 - val_accuracy: 0.9171\n",
      "Epoch 56/100\n",
      "375/375 [==============================] - 2s 4ms/step - loss: 0.3163 - accuracy: 0.9122 - val_loss: 0.3035 - val_accuracy: 0.9170\n",
      "Epoch 57/100\n",
      "375/375 [==============================] - 2s 4ms/step - loss: 0.3170 - accuracy: 0.9129 - val_loss: 0.3030 - val_accuracy: 0.9170\n"
     ]
    },
    {
     "name": "stdout",
     "output_type": "stream",
     "text": [
      "Epoch 58/100\n",
      "375/375 [==============================] - 2s 4ms/step - loss: 0.3140 - accuracy: 0.9128 - val_loss: 0.3025 - val_accuracy: 0.9171\n",
      "Epoch 59/100\n",
      "375/375 [==============================] - 2s 4ms/step - loss: 0.3101 - accuracy: 0.9138 - val_loss: 0.3018 - val_accuracy: 0.9167\n",
      "Epoch 60/100\n",
      "375/375 [==============================] - 2s 5ms/step - loss: 0.3094 - accuracy: 0.9135 - val_loss: 0.3013 - val_accuracy: 0.9168\n",
      "Epoch 61/100\n",
      "375/375 [==============================] - 2s 4ms/step - loss: 0.3137 - accuracy: 0.9141 - val_loss: 0.3008 - val_accuracy: 0.9168\n",
      "Epoch 62/100\n",
      "375/375 [==============================] - 2s 4ms/step - loss: 0.3054 - accuracy: 0.9147 - val_loss: 0.3004 - val_accuracy: 0.9172\n",
      "Epoch 63/100\n",
      "375/375 [==============================] - 2s 4ms/step - loss: 0.3068 - accuracy: 0.9150 - val_loss: 0.3000 - val_accuracy: 0.9162\n",
      "Epoch 64/100\n",
      "375/375 [==============================] - 2s 4ms/step - loss: 0.3104 - accuracy: 0.9140 - val_loss: 0.2994 - val_accuracy: 0.9172\n",
      "Epoch 65/100\n",
      "375/375 [==============================] - 2s 4ms/step - loss: 0.3199 - accuracy: 0.9102 - val_loss: 0.2989 - val_accuracy: 0.9175\n",
      "Epoch 66/100\n",
      "375/375 [==============================] - 2s 4ms/step - loss: 0.3154 - accuracy: 0.9115 - val_loss: 0.2985 - val_accuracy: 0.9175\n",
      "Epoch 67/100\n",
      "375/375 [==============================] - 2s 4ms/step - loss: 0.3125 - accuracy: 0.9138 - val_loss: 0.2980 - val_accuracy: 0.9175\n",
      "Epoch 68/100\n",
      "375/375 [==============================] - 2s 4ms/step - loss: 0.3127 - accuracy: 0.9123 - val_loss: 0.2975 - val_accuracy: 0.9175\n",
      "Epoch 69/100\n",
      "375/375 [==============================] - 2s 4ms/step - loss: 0.3110 - accuracy: 0.9134 - val_loss: 0.2972 - val_accuracy: 0.9174\n",
      "Epoch 70/100\n",
      "375/375 [==============================] - 2s 4ms/step - loss: 0.3083 - accuracy: 0.9149 - val_loss: 0.2968 - val_accuracy: 0.9177\n",
      "Epoch 71/100\n",
      "375/375 [==============================] - 2s 4ms/step - loss: 0.3054 - accuracy: 0.9148 - val_loss: 0.2964 - val_accuracy: 0.9178\n",
      "Epoch 72/100\n",
      "375/375 [==============================] - 2s 4ms/step - loss: 0.3101 - accuracy: 0.9129 - val_loss: 0.2961 - val_accuracy: 0.9178\n",
      "Epoch 73/100\n",
      "375/375 [==============================] - 2s 4ms/step - loss: 0.3067 - accuracy: 0.9133 - val_loss: 0.2956 - val_accuracy: 0.9178\n",
      "Epoch 74/100\n",
      "375/375 [==============================] - 2s 4ms/step - loss: 0.3024 - accuracy: 0.9155 - val_loss: 0.2953 - val_accuracy: 0.9180\n",
      "Epoch 75/100\n",
      "375/375 [==============================] - 2s 4ms/step - loss: 0.3050 - accuracy: 0.9144 - val_loss: 0.2949 - val_accuracy: 0.9181\n",
      "Epoch 76/100\n",
      "375/375 [==============================] - 2s 4ms/step - loss: 0.3019 - accuracy: 0.9181 - val_loss: 0.2946 - val_accuracy: 0.9183\n",
      "Epoch 77/100\n",
      "375/375 [==============================] - 2s 4ms/step - loss: 0.3031 - accuracy: 0.9159 - val_loss: 0.2942 - val_accuracy: 0.9181\n",
      "Epoch 78/100\n",
      "375/375 [==============================] - 2s 4ms/step - loss: 0.2961 - accuracy: 0.9163 - val_loss: 0.2939 - val_accuracy: 0.9187\n",
      "Epoch 79/100\n",
      "375/375 [==============================] - 2s 4ms/step - loss: 0.2997 - accuracy: 0.9168 - val_loss: 0.2935 - val_accuracy: 0.9186\n",
      "Epoch 80/100\n",
      "375/375 [==============================] - 2s 4ms/step - loss: 0.3001 - accuracy: 0.9166 - val_loss: 0.2932 - val_accuracy: 0.9187\n",
      "Epoch 81/100\n",
      "375/375 [==============================] - 2s 4ms/step - loss: 0.3045 - accuracy: 0.9136 - val_loss: 0.2929 - val_accuracy: 0.9187\n",
      "Epoch 82/100\n",
      "375/375 [==============================] - 2s 4ms/step - loss: 0.3053 - accuracy: 0.9155 - val_loss: 0.2926 - val_accuracy: 0.9190\n",
      "Epoch 83/100\n",
      "375/375 [==============================] - 2s 5ms/step - loss: 0.3039 - accuracy: 0.9148 - val_loss: 0.2923 - val_accuracy: 0.9191\n",
      "Epoch 84/100\n",
      "375/375 [==============================] - 2s 4ms/step - loss: 0.3035 - accuracy: 0.9146 - val_loss: 0.2919 - val_accuracy: 0.9193\n",
      "Epoch 85/100\n",
      "375/375 [==============================] - 2s 5ms/step - loss: 0.2968 - accuracy: 0.9183 - val_loss: 0.2917 - val_accuracy: 0.9193\n",
      "Epoch 86/100\n",
      "375/375 [==============================] - 2s 4ms/step - loss: 0.3016 - accuracy: 0.9169 - val_loss: 0.2914 - val_accuracy: 0.9194\n",
      "Epoch 87/100\n",
      "375/375 [==============================] - 2s 4ms/step - loss: 0.3011 - accuracy: 0.9162 - val_loss: 0.2911 - val_accuracy: 0.9191\n",
      "Epoch 88/100\n",
      "375/375 [==============================] - 2s 4ms/step - loss: 0.3037 - accuracy: 0.9151 - val_loss: 0.2908 - val_accuracy: 0.9196\n",
      "Epoch 89/100\n",
      "375/375 [==============================] - 2s 4ms/step - loss: 0.2944 - accuracy: 0.9178 - val_loss: 0.2906 - val_accuracy: 0.9197\n",
      "Epoch 90/100\n",
      "375/375 [==============================] - 2s 4ms/step - loss: 0.3003 - accuracy: 0.9179 - val_loss: 0.2903 - val_accuracy: 0.9194\n",
      "Epoch 91/100\n",
      "375/375 [==============================] - 2s 4ms/step - loss: 0.2909 - accuracy: 0.9188 - val_loss: 0.2900 - val_accuracy: 0.9196\n",
      "Epoch 92/100\n",
      "375/375 [==============================] - 2s 4ms/step - loss: 0.2991 - accuracy: 0.9156 - val_loss: 0.2897 - val_accuracy: 0.9202\n",
      "Epoch 93/100\n",
      "375/375 [==============================] - 2s 4ms/step - loss: 0.2953 - accuracy: 0.9169 - val_loss: 0.2895 - val_accuracy: 0.9198\n",
      "Epoch 94/100\n",
      "375/375 [==============================] - 2s 4ms/step - loss: 0.2955 - accuracy: 0.9190 - val_loss: 0.2892 - val_accuracy: 0.9201\n",
      "Epoch 95/100\n",
      "375/375 [==============================] - 2s 4ms/step - loss: 0.2951 - accuracy: 0.9196 - val_loss: 0.2890 - val_accuracy: 0.9199\n",
      "Epoch 96/100\n",
      "375/375 [==============================] - 2s 4ms/step - loss: 0.2918 - accuracy: 0.9185 - val_loss: 0.2888 - val_accuracy: 0.9202\n",
      "Epoch 97/100\n",
      "375/375 [==============================] - 2s 5ms/step - loss: 0.3030 - accuracy: 0.9157 - val_loss: 0.2886 - val_accuracy: 0.9200\n",
      "Epoch 98/100\n",
      "375/375 [==============================] - 2s 4ms/step - loss: 0.2901 - accuracy: 0.9200 - val_loss: 0.2884 - val_accuracy: 0.9201\n",
      "Epoch 99/100\n",
      "375/375 [==============================] - 2s 4ms/step - loss: 0.2947 - accuracy: 0.9185 - val_loss: 0.2881 - val_accuracy: 0.9203\n",
      "Epoch 100/100\n",
      "375/375 [==============================] - 2s 4ms/step - loss: 0.2989 - accuracy: 0.9167 - val_loss: 0.2879 - val_accuracy: 0.9202\n"
     ]
    },
    {
     "data": {
      "text/plain": [
       "<tensorflow.python.keras.callbacks.History at 0x2ab32a9d710>"
      ]
     },
     "execution_count": 9,
     "metadata": {},
     "output_type": "execute_result"
    }
   ],
   "source": [
    "# Once the model is compiled\n",
    "# It is ready to be trained with fit() method\n",
    "# Training the model:\n",
    "model.fit(X_train, y_train,\n",
    "         batch_size=BATCH_SIZE, epochs=EPOCHS,\n",
    "         verbose=VEBOSE, validation_split=VALIDATION_SPLIT)"
   ]
  },
  {
   "cell_type": "code",
   "execution_count": 13,
   "metadata": {},
   "outputs": [
    {
     "name": "stdout",
     "output_type": "stream",
     "text": [
      "313/313 [==============================] - 1s 2ms/step - loss: 0.2881 - accuracy: 0.9208\n",
      "Test accuract:  0.920799970626831\n"
     ]
    }
   ],
   "source": [
    "# Evaluate the trained model\n",
    "test_loss, test_acc = model.evaluate(X_test, y_test)\n",
    "print(\"Test accuract: \", test_acc)"
   ]
  },
  {
   "cell_type": "code",
   "execution_count": null,
   "metadata": {},
   "outputs": [],
   "source": []
  },
  {
   "cell_type": "code",
   "execution_count": null,
   "metadata": {},
   "outputs": [],
   "source": []
  },
  {
   "cell_type": "code",
   "execution_count": null,
   "metadata": {},
   "outputs": [],
   "source": []
  },
  {
   "cell_type": "code",
   "execution_count": null,
   "metadata": {},
   "outputs": [],
   "source": []
  },
  {
   "cell_type": "code",
   "execution_count": null,
   "metadata": {},
   "outputs": [],
   "source": []
  },
  {
   "cell_type": "code",
   "execution_count": null,
   "metadata": {},
   "outputs": [],
   "source": []
  },
  {
   "cell_type": "code",
   "execution_count": null,
   "metadata": {},
   "outputs": [],
   "source": []
  },
  {
   "cell_type": "code",
   "execution_count": null,
   "metadata": {},
   "outputs": [],
   "source": []
  },
  {
   "cell_type": "code",
   "execution_count": null,
   "metadata": {},
   "outputs": [],
   "source": []
  },
  {
   "cell_type": "code",
   "execution_count": null,
   "metadata": {},
   "outputs": [],
   "source": []
  }
 ],
 "metadata": {
  "kernelspec": {
   "display_name": "Python 3",
   "language": "python",
   "name": "python3"
  },
  "language_info": {
   "codemirror_mode": {
    "name": "ipython",
    "version": 3
   },
   "file_extension": ".py",
   "mimetype": "text/x-python",
   "name": "python",
   "nbconvert_exporter": "python",
   "pygments_lexer": "ipython3",
   "version": "3.7.3"
  },
  "toc": {
   "base_numbering": 1,
   "nav_menu": {},
   "number_sections": true,
   "sideBar": true,
   "skip_h1_title": false,
   "title_cell": "Table of Contents",
   "title_sidebar": "Contents",
   "toc_cell": false,
   "toc_position": {},
   "toc_section_display": true,
   "toc_window_display": false
  }
 },
 "nbformat": 4,
 "nbformat_minor": 2
}
