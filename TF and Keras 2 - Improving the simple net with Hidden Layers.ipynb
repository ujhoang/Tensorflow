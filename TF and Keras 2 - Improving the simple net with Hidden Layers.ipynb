{
 "cells": [
  {
   "cell_type": "code",
   "execution_count": 1,
   "metadata": {},
   "outputs": [],
   "source": [
    "import tensorflow as tf \n",
    "from tensorflow import keras"
   ]
  },
  {
   "cell_type": "code",
   "execution_count": 2,
   "metadata": {},
   "outputs": [],
   "source": [
    "# Network and training\n",
    "Epochs = 50\n",
    "Batch_size = 120 \n",
    "Verbose = 1 \n",
    "nb_classes = 10 # number of output\n",
    "N_hidden = 128 \n",
    "validation_split = 0.2 "
   ]
  },
  {
   "cell_type": "code",
   "execution_count": 3,
   "metadata": {},
   "outputs": [],
   "source": [
    "# loading mnist dataset\n",
    "# Labels have one hot encoding\n",
    "mnist = keras.datasets.mnist\n",
    "(X_train, y_train), (X_test, y_test) = mnist.load_data()"
   ]
  },
  {
   "cell_type": "code",
   "execution_count": 4,
   "metadata": {},
   "outputs": [
    {
     "data": {
      "text/plain": [
       "array([[0., 0., 0., ..., 0., 0., 0.],\n",
       "       [0., 0., 0., ..., 0., 0., 0.],\n",
       "       [0., 0., 0., ..., 0., 0., 0.],\n",
       "       ...,\n",
       "       [0., 0., 0., ..., 0., 0., 0.],\n",
       "       [0., 0., 0., ..., 0., 0., 0.],\n",
       "       [0., 0., 0., ..., 0., 0., 0.]])"
      ]
     },
     "execution_count": 4,
     "metadata": {},
     "output_type": "execute_result"
    }
   ],
   "source": [
    "X_train = X_train.reshape(60000, 28*28)\n",
    "X_test = X_test.reshape(-1, 28*28)\n",
    "X_train.astype('float')\n",
    "X_test.astype('float')"
   ]
  },
  {
   "cell_type": "code",
   "execution_count": 5,
   "metadata": {},
   "outputs": [
    {
     "name": "stdout",
     "output_type": "stream",
     "text": [
      "60000 Train samples\n",
      "10000 Test samples\n"
     ]
    }
   ],
   "source": [
    "# Normalize inputs to be within [0, 1]\n",
    "X_train, X_test = X_train/255, X_test/255\n",
    "print(X_train.shape[0], \"Train samples\")\n",
    "print(X_test.shape[0], \"Test samples\")"
   ]
  },
  {
   "cell_type": "code",
   "execution_count": 6,
   "metadata": {},
   "outputs": [],
   "source": [
    "y_train = tf.keras.utils.to_categorical(y_train, nb_classes)\n",
    "y_test = tf.keras.utils.to_categorical(y_test, nb_classes)"
   ]
  },
  {
   "cell_type": "code",
   "execution_count": 7,
   "metadata": {},
   "outputs": [],
   "source": [
    "# Building the model\n",
    "model = keras.models.Sequential()\n",
    "model.add(keras.layers.Dense(N_hidden, \n",
    "                             input_shape=(28*28, ),\n",
    "                             name=\"dense_layer\",\n",
    "                             activation='relu'\n",
    "                            ))"
   ]
  },
  {
   "cell_type": "code",
   "execution_count": 11,
   "metadata": {},
   "outputs": [],
   "source": [
    "# second hidden layer\n",
    "model.add(keras.layers.Dense(N_hidden,\n",
    "                            name=\"dense_layer_2\",\n",
    "                            activation='relu'\n",
    "                            ))\n",
    "# Output layer\n",
    "model.add(keras.layers.Dense(nb_classes,\n",
    "                            name=\"dense_layer_3\",\n",
    "                            activation='softmax'\n",
    "                            ))"
   ]
  },
  {
   "cell_type": "code",
   "execution_count": 12,
   "metadata": {},
   "outputs": [
    {
     "name": "stdout",
     "output_type": "stream",
     "text": [
      "Model: \"sequential\"\n",
      "_________________________________________________________________\n",
      "Layer (type)                 Output Shape              Param #   \n",
      "=================================================================\n",
      "dense_layer (Dense)          (None, 128)               100480    \n",
      "_________________________________________________________________\n",
      "dense_layer_2 (Dense)        (None, 128)               16512     \n",
      "_________________________________________________________________\n",
      "dense_layer_3 (Dense)        (None, 10)                1290      \n",
      "=================================================================\n",
      "Total params: 118,282\n",
      "Trainable params: 118,282\n",
      "Non-trainable params: 0\n",
      "_________________________________________________________________\n"
     ]
    }
   ],
   "source": [
    "# Model Summary\n",
    "model.summary()"
   ]
  },
  {
   "cell_type": "code",
   "execution_count": 13,
   "metadata": {},
   "outputs": [],
   "source": [
    "# Compile the model\n",
    "model.compile(optimizer='SGD',\n",
    "             loss='categorical_crossentropy',\n",
    "             metrics=['accuracy'])"
   ]
  },
  {
   "cell_type": "code",
   "execution_count": 14,
   "metadata": {
    "scrolled": true
   },
   "outputs": [
    {
     "name": "stdout",
     "output_type": "stream",
     "text": [
      "Epoch 1/50\n",
      "400/400 [==============================] - 5s 9ms/step - loss: 1.9146 - accuracy: 0.4241 - val_loss: 0.7103 - val_accuracy: 0.8503\n",
      "Epoch 2/50\n",
      "400/400 [==============================] - 3s 7ms/step - loss: 0.6398 - accuracy: 0.8463 - val_loss: 0.4348 - val_accuracy: 0.8862\n",
      "Epoch 3/50\n",
      "400/400 [==============================] - 3s 7ms/step - loss: 0.4357 - accuracy: 0.8827 - val_loss: 0.3603 - val_accuracy: 0.9011\n",
      "Epoch 4/50\n",
      "400/400 [==============================] - 3s 7ms/step - loss: 0.3714 - accuracy: 0.8956 - val_loss: 0.3249 - val_accuracy: 0.9079\n",
      "Epoch 5/50\n",
      "400/400 [==============================] - 3s 8ms/step - loss: 0.3364 - accuracy: 0.9046 - val_loss: 0.3010 - val_accuracy: 0.9151\n",
      "Epoch 6/50\n",
      "400/400 [==============================] - 3s 8ms/step - loss: 0.3131 - accuracy: 0.9116 - val_loss: 0.2837 - val_accuracy: 0.9204\n",
      "Epoch 7/50\n",
      "400/400 [==============================] - 3s 8ms/step - loss: 0.2977 - accuracy: 0.9151 - val_loss: 0.2702 - val_accuracy: 0.9249\n",
      "Epoch 8/50\n",
      "400/400 [==============================] - 3s 8ms/step - loss: 0.2871 - accuracy: 0.9166 - val_loss: 0.2617 - val_accuracy: 0.9275\n",
      "Epoch 9/50\n",
      "400/400 [==============================] - 3s 8ms/step - loss: 0.2689 - accuracy: 0.9216 - val_loss: 0.2498 - val_accuracy: 0.9306\n",
      "Epoch 10/50\n",
      "400/400 [==============================] - 3s 8ms/step - loss: 0.2583 - accuracy: 0.9271 - val_loss: 0.2403 - val_accuracy: 0.9330\n",
      "Epoch 11/50\n",
      "400/400 [==============================] - 3s 8ms/step - loss: 0.2470 - accuracy: 0.9298 - val_loss: 0.2330 - val_accuracy: 0.9358\n",
      "Epoch 12/50\n",
      "400/400 [==============================] - 3s 8ms/step - loss: 0.2378 - accuracy: 0.9326 - val_loss: 0.2267 - val_accuracy: 0.9374\n",
      "Epoch 13/50\n",
      "400/400 [==============================] - 3s 8ms/step - loss: 0.2278 - accuracy: 0.9347 - val_loss: 0.2179 - val_accuracy: 0.9409\n",
      "Epoch 14/50\n",
      "400/400 [==============================] - 3s 8ms/step - loss: 0.2181 - accuracy: 0.9366 - val_loss: 0.2131 - val_accuracy: 0.9432\n",
      "Epoch 15/50\n",
      "400/400 [==============================] - 3s 8ms/step - loss: 0.2121 - accuracy: 0.9407 - val_loss: 0.2079 - val_accuracy: 0.9433\n",
      "Epoch 16/50\n",
      "400/400 [==============================] - 3s 8ms/step - loss: 0.2017 - accuracy: 0.9403 - val_loss: 0.2024 - val_accuracy: 0.9458\n",
      "Epoch 17/50\n",
      "400/400 [==============================] - 3s 8ms/step - loss: 0.1970 - accuracy: 0.9446 - val_loss: 0.1969 - val_accuracy: 0.9473\n",
      "Epoch 18/50\n",
      "400/400 [==============================] - 3s 8ms/step - loss: 0.1945 - accuracy: 0.9447 - val_loss: 0.1929 - val_accuracy: 0.9479\n",
      "Epoch 19/50\n",
      "400/400 [==============================] - 3s 8ms/step - loss: 0.1882 - accuracy: 0.9449 - val_loss: 0.1886 - val_accuracy: 0.9495\n",
      "Epoch 20/50\n",
      "400/400 [==============================] - 3s 8ms/step - loss: 0.1824 - accuracy: 0.9481 - val_loss: 0.1847 - val_accuracy: 0.9502\n",
      "Epoch 21/50\n",
      "400/400 [==============================] - 3s 8ms/step - loss: 0.1819 - accuracy: 0.9488 - val_loss: 0.1803 - val_accuracy: 0.9512\n",
      "Epoch 22/50\n",
      "400/400 [==============================] - 3s 8ms/step - loss: 0.1700 - accuracy: 0.9511 - val_loss: 0.1774 - val_accuracy: 0.9516\n",
      "Epoch 23/50\n",
      "400/400 [==============================] - 3s 8ms/step - loss: 0.1696 - accuracy: 0.9509 - val_loss: 0.1736 - val_accuracy: 0.9527\n",
      "Epoch 24/50\n",
      "400/400 [==============================] - 3s 8ms/step - loss: 0.1660 - accuracy: 0.9540 - val_loss: 0.1701 - val_accuracy: 0.9535\n",
      "Epoch 25/50\n",
      "400/400 [==============================] - 3s 8ms/step - loss: 0.1570 - accuracy: 0.9542 - val_loss: 0.1678 - val_accuracy: 0.9532\n",
      "Epoch 26/50\n",
      "400/400 [==============================] - 3s 8ms/step - loss: 0.1596 - accuracy: 0.9544 - val_loss: 0.1639 - val_accuracy: 0.9545\n",
      "Epoch 27/50\n",
      "400/400 [==============================] - 3s 8ms/step - loss: 0.1538 - accuracy: 0.9551 - val_loss: 0.1604 - val_accuracy: 0.9559\n",
      "Epoch 28/50\n",
      "400/400 [==============================] - 3s 8ms/step - loss: 0.1481 - accuracy: 0.9587 - val_loss: 0.1575 - val_accuracy: 0.9569\n",
      "Epoch 29/50\n",
      "400/400 [==============================] - 3s 7ms/step - loss: 0.1484 - accuracy: 0.9576 - val_loss: 0.1560 - val_accuracy: 0.9569\n",
      "Epoch 30/50\n",
      "400/400 [==============================] - 3s 7ms/step - loss: 0.1399 - accuracy: 0.9601 - val_loss: 0.1539 - val_accuracy: 0.9569\n",
      "Epoch 31/50\n",
      "400/400 [==============================] - 3s 7ms/step - loss: 0.1389 - accuracy: 0.9601 - val_loss: 0.1519 - val_accuracy: 0.9584\n",
      "Epoch 32/50\n",
      "400/400 [==============================] - 3s 8ms/step - loss: 0.1380 - accuracy: 0.9605 - val_loss: 0.1491 - val_accuracy: 0.9588\n",
      "Epoch 33/50\n",
      "400/400 [==============================] - 3s 8ms/step - loss: 0.1342 - accuracy: 0.9615 - val_loss: 0.1466 - val_accuracy: 0.9594\n",
      "Epoch 34/50\n",
      "400/400 [==============================] - 3s 8ms/step - loss: 0.1308 - accuracy: 0.9637 - val_loss: 0.1458 - val_accuracy: 0.9591\n",
      "Epoch 35/50\n",
      "400/400 [==============================] - 3s 8ms/step - loss: 0.1270 - accuracy: 0.9626 - val_loss: 0.1424 - val_accuracy: 0.9605\n",
      "Epoch 36/50\n",
      "400/400 [==============================] - 3s 8ms/step - loss: 0.1246 - accuracy: 0.9643 - val_loss: 0.1414 - val_accuracy: 0.9615\n",
      "Epoch 37/50\n",
      "400/400 [==============================] - 3s 8ms/step - loss: 0.1227 - accuracy: 0.9653 - val_loss: 0.1398 - val_accuracy: 0.9626\n",
      "Epoch 38/50\n",
      "400/400 [==============================] - 3s 8ms/step - loss: 0.1236 - accuracy: 0.9657 - val_loss: 0.1375 - val_accuracy: 0.9623\n",
      "Epoch 39/50\n",
      "400/400 [==============================] - 3s 8ms/step - loss: 0.1181 - accuracy: 0.9662 - val_loss: 0.1359 - val_accuracy: 0.9625\n",
      "Epoch 40/50\n",
      "400/400 [==============================] - 3s 8ms/step - loss: 0.1123 - accuracy: 0.9693 - val_loss: 0.1349 - val_accuracy: 0.9632\n",
      "Epoch 41/50\n",
      "400/400 [==============================] - 3s 7ms/step - loss: 0.1110 - accuracy: 0.9677 - val_loss: 0.1331 - val_accuracy: 0.9626\n",
      "Epoch 42/50\n",
      "400/400 [==============================] - 2s 6ms/step - loss: 0.1087 - accuracy: 0.9694 - val_loss: 0.1314 - val_accuracy: 0.9637\n",
      "Epoch 43/50\n",
      "400/400 [==============================] - 3s 8ms/step - loss: 0.1076 - accuracy: 0.9698 - val_loss: 0.1296 - val_accuracy: 0.9642\n",
      "Epoch 44/50\n",
      "400/400 [==============================] - 3s 8ms/step - loss: 0.1073 - accuracy: 0.9695 - val_loss: 0.1286 - val_accuracy: 0.9640\n",
      "Epoch 45/50\n",
      "400/400 [==============================] - 3s 8ms/step - loss: 0.1042 - accuracy: 0.9712 - val_loss: 0.1270 - val_accuracy: 0.9645\n",
      "Epoch 46/50\n",
      "400/400 [==============================] - 3s 7ms/step - loss: 0.0967 - accuracy: 0.9728 - val_loss: 0.1260 - val_accuracy: 0.9651\n",
      "Epoch 47/50\n",
      "400/400 [==============================] - 3s 7ms/step - loss: 0.1004 - accuracy: 0.9713 - val_loss: 0.1252 - val_accuracy: 0.9645\n",
      "Epoch 48/50\n",
      "400/400 [==============================] - 3s 8ms/step - loss: 0.0991 - accuracy: 0.9720 - val_loss: 0.1243 - val_accuracy: 0.9647\n",
      "Epoch 49/50\n",
      "400/400 [==============================] - 3s 7ms/step - loss: 0.0940 - accuracy: 0.9734 - val_loss: 0.1224 - val_accuracy: 0.9654\n",
      "Epoch 50/50\n",
      "400/400 [==============================] - 3s 7ms/step - loss: 0.0928 - accuracy: 0.9727 - val_loss: 0.1214 - val_accuracy: 0.9654\n"
     ]
    },
    {
     "data": {
      "text/plain": [
       "<tensorflow.python.keras.callbacks.History at 0x1e77da8ac50>"
      ]
     },
     "execution_count": 14,
     "metadata": {},
     "output_type": "execute_result"
    }
   ],
   "source": [
    "# Train the model\n",
    "model.fit(X_train, y_train,batch_size=Batch_size, epochs=Epochs, verbose=Verbose, validation_split=validation_split)"
   ]
  },
  {
   "cell_type": "code",
   "execution_count": 15,
   "metadata": {},
   "outputs": [
    {
     "name": "stdout",
     "output_type": "stream",
     "text": [
      "313/313 [==============================] - 2s 4ms/step - loss: 0.1145 - accuracy: 0.9651\n",
      "Test Accuracy 0.9650999903678894\n"
     ]
    }
   ],
   "source": [
    "# Evaluating the trained model\n",
    "test_loss, test_acc = model.evaluate(X_test, y_test)\n",
    "print('Test Accuracy', test_acc)"
   ]
  },
  {
   "cell_type": "code",
   "execution_count": 18,
   "metadata": {},
   "outputs": [
    {
     "data": {
      "text/plain": [
       "(60000, 10)"
      ]
     },
     "execution_count": 18,
     "metadata": {},
     "output_type": "execute_result"
    }
   ],
   "source": [
    "y_train.shape"
   ]
  },
  {
   "cell_type": "code",
   "execution_count": 19,
   "metadata": {},
   "outputs": [
    {
     "data": {
      "text/plain": [
       "array([[1., 0., 0.],\n",
       "       [0., 0., 1.],\n",
       "       [0., 1., 0.],\n",
       "       [0., 0., 1.],\n",
       "       [1., 0., 0.]], dtype=float32)"
      ]
     },
     "execution_count": 19,
     "metadata": {},
     "output_type": "execute_result"
    }
   ],
   "source": [
    "# Example of what to_categorical function is doing by hot-encoding it\n",
    "labels = [0, 2, 1, 2, 0]\n",
    "tf.keras.utils.to_categorical(labels)"
   ]
  },
  {
   "cell_type": "code",
   "execution_count": null,
   "metadata": {},
   "outputs": [],
   "source": []
  },
  {
   "cell_type": "code",
   "execution_count": null,
   "metadata": {},
   "outputs": [],
   "source": []
  },
  {
   "cell_type": "code",
   "execution_count": null,
   "metadata": {},
   "outputs": [],
   "source": []
  },
  {
   "cell_type": "code",
   "execution_count": null,
   "metadata": {},
   "outputs": [],
   "source": []
  },
  {
   "cell_type": "code",
   "execution_count": null,
   "metadata": {},
   "outputs": [],
   "source": []
  },
  {
   "cell_type": "code",
   "execution_count": null,
   "metadata": {},
   "outputs": [],
   "source": []
  },
  {
   "cell_type": "code",
   "execution_count": null,
   "metadata": {},
   "outputs": [],
   "source": []
  },
  {
   "cell_type": "code",
   "execution_count": null,
   "metadata": {},
   "outputs": [],
   "source": []
  },
  {
   "cell_type": "code",
   "execution_count": null,
   "metadata": {},
   "outputs": [],
   "source": []
  },
  {
   "cell_type": "code",
   "execution_count": null,
   "metadata": {},
   "outputs": [],
   "source": []
  },
  {
   "cell_type": "code",
   "execution_count": null,
   "metadata": {},
   "outputs": [],
   "source": []
  }
 ],
 "metadata": {
  "kernelspec": {
   "display_name": "Python 3",
   "language": "python",
   "name": "python3"
  },
  "language_info": {
   "codemirror_mode": {
    "name": "ipython",
    "version": 3
   },
   "file_extension": ".py",
   "mimetype": "text/x-python",
   "name": "python",
   "nbconvert_exporter": "python",
   "pygments_lexer": "ipython3",
   "version": "3.7.3"
  },
  "toc": {
   "base_numbering": 1,
   "nav_menu": {},
   "number_sections": true,
   "sideBar": true,
   "skip_h1_title": false,
   "title_cell": "Table of Contents",
   "title_sidebar": "Contents",
   "toc_cell": false,
   "toc_position": {},
   "toc_section_display": true,
   "toc_window_display": false
  }
 },
 "nbformat": 4,
 "nbformat_minor": 2
}
