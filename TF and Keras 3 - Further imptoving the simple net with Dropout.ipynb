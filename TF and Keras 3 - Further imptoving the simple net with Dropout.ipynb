{
 "cells": [
  {
   "cell_type": "code",
   "execution_count": 1,
   "metadata": {},
   "outputs": [],
   "source": [
    "import tensorflow as tf \n",
    "import numpy as np \n",
    "from tensorflow import keras"
   ]
  },
  {
   "cell_type": "code",
   "execution_count": 2,
   "metadata": {},
   "outputs": [],
   "source": [
    "# Network and training\n",
    "EPOCHS = 200\n",
    "BATCH_SIZE = 128 \n",
    "NB_CLASSES = 10\n",
    "N_HIDDEN = 128\n",
    "VALIDATION_SPLIT = 0.2 \n",
    "DROPOUT = 0.3"
   ]
  },
  {
   "cell_type": "code",
   "execution_count": 3,
   "metadata": {},
   "outputs": [],
   "source": [
    "# Loading MNIST dataset\n",
    "mnist = keras.datasets.mnist\n",
    "(X_train, Y_train), (X_test, Y_test) = mnist.load_data()"
   ]
  },
  {
   "cell_type": "code",
   "execution_count": 4,
   "metadata": {},
   "outputs": [],
   "source": [
    "RESHAPED = 28*28\n",
    "X_train = X_train.reshape(-1, RESHAPED)\n",
    "X_test = X_test.reshape(-1, RESHAPED)\n",
    "X_train = X_train.astype('float32')\n",
    "X_test = X_test.astype('float32')"
   ]
  },
  {
   "cell_type": "code",
   "execution_count": 5,
   "metadata": {},
   "outputs": [
    {
     "output_type": "stream",
     "name": "stdout",
     "text": [
      "60000 train samples\n10000 test samples\n"
     ]
    }
   ],
   "source": [
    "# Normalize inputs within [0, 1]\n",
    "X_train, X_test = X_train/255.0, X_test/255.0\n",
    "print(X_train.shape[0], 'train samples')\n",
    "print(X_test.shape[0], 'test samples')"
   ]
  },
  {
   "cell_type": "code",
   "execution_count": 6,
   "metadata": {},
   "outputs": [],
   "source": [
    "# One-hot representations for labels\n",
    "Y_train = tf.keras.utils.to_categorical(Y_train, NB_CLASSES)\n",
    "Y_test = tf.keras.utils.to_categorical(Y_test, NB_CLASSES)"
   ]
  },
  {
   "cell_type": "code",
   "execution_count": 7,
   "metadata": {},
   "outputs": [],
   "source": [
    "# Building the model\n",
    "model = keras.models.Sequential()"
   ]
  },
  {
   "cell_type": "code",
   "execution_count": 8,
   "metadata": {},
   "outputs": [],
   "source": [
    "model.add(\n",
    "    keras.layers.Dense(\n",
    "        N_HIDDEN, \n",
    "        input_shape=(RESHAPED,),\n",
    "        name=\"Dense_layer_1\",\n",
    "        activation=\"relu\"\n",
    "    )\n",
    ")\n",
    "model.add(keras.layers.Dropout(DROPOUT))\n",
    "model.add(\n",
    "    keras.layers.Dense(\n",
    "        N_HIDDEN, \n",
    "        name=\"Dense_layer_2\",\n",
    "        activation=\"relu\"\n",
    "    )\n",
    ")\n",
    "model.add(keras.layers.Dropout(DROPOUT))\n",
    "model.add(\n",
    "    keras.layers.Dense(\n",
    "        NB_CLASSES, \n",
    "        name=\"Dense_layer_3\",\n",
    "        activation=\"softmax\"\n",
    "    )\n",
    ")\n"
   ]
  },
  {
   "cell_type": "code",
   "execution_count": 9,
   "metadata": {},
   "outputs": [
    {
     "output_type": "stream",
     "name": "stdout",
     "text": [
      "Model: \"sequential\"\n_________________________________________________________________\nLayer (type)                 Output Shape              Param #   \n=================================================================\nDense_layer_1 (Dense)        (None, 128)               100480    \n_________________________________________________________________\ndropout (Dropout)            (None, 128)               0         \n_________________________________________________________________\nDense_layer_2 (Dense)        (None, 128)               16512     \n_________________________________________________________________\ndropout_1 (Dropout)          (None, 128)               0         \n_________________________________________________________________\nDense_layer_3 (Dense)        (None, 10)                1290      \n=================================================================\nTotal params: 118,282\nTrainable params: 118,282\nNon-trainable params: 0\n_________________________________________________________________\n"
     ]
    }
   ],
   "source": [
    "model.summary()"
   ]
  },
  {
   "source": [
    "<h1> 3 types of optimisers:\n",
    "> 1. SGD\n",
    "> 2. RMSProp\n",
    "> 3. Adam"
   ],
   "cell_type": "markdown",
   "metadata": {}
  },
  {
   "cell_type": "code",
   "execution_count": 16,
   "metadata": {},
   "outputs": [],
   "source": [
    "\n",
    "model.compile(\n",
    "    optimizer=\"RMSProp\",\n",
    "    loss=\"categorical_crossentropy\",\n",
    "    metrics=[\"accuracy\"])"
   ]
  },
  {
   "cell_type": "code",
   "execution_count": 12,
   "metadata": {
    "tags": []
   },
   "outputs": [
    {
     "output_type": "stream",
     "name": "stdout",
     "text": [
      "Epoch 1/50\n",
      "375/375 [==============================] - 4s 11ms/step - loss: 0.1289 - accuracy: 0.9615 - val_loss: 0.0985 - val_accuracy: 0.9713\n",
      "Epoch 2/50\n",
      "375/375 [==============================] - 3s 9ms/step - loss: 0.1188 - accuracy: 0.9651 - val_loss: 0.1037 - val_accuracy: 0.9696\n",
      "Epoch 3/50\n",
      "375/375 [==============================] - 3s 8ms/step - loss: 0.1076 - accuracy: 0.9680 - val_loss: 0.1009 - val_accuracy: 0.9732\n",
      "Epoch 4/50\n",
      "375/375 [==============================] - 4s 10ms/step - loss: 0.1022 - accuracy: 0.9695 - val_loss: 0.0999 - val_accuracy: 0.9737\n",
      "Epoch 5/50\n",
      "375/375 [==============================] - 4s 10ms/step - loss: 0.0972 - accuracy: 0.9708 - val_loss: 0.0975 - val_accuracy: 0.9757\n",
      "Epoch 6/50\n",
      "375/375 [==============================] - 4s 10ms/step - loss: 0.0918 - accuracy: 0.9733 - val_loss: 0.0976 - val_accuracy: 0.9744\n",
      "Epoch 7/50\n",
      "375/375 [==============================] - 4s 10ms/step - loss: 0.0879 - accuracy: 0.9737 - val_loss: 0.1022 - val_accuracy: 0.9741\n",
      "Epoch 8/50\n",
      "375/375 [==============================] - 4s 11ms/step - loss: 0.0849 - accuracy: 0.9746 - val_loss: 0.0944 - val_accuracy: 0.9765\n",
      "Epoch 9/50\n",
      "375/375 [==============================] - 4s 10ms/step - loss: 0.0813 - accuracy: 0.9759 - val_loss: 0.0950 - val_accuracy: 0.9762\n",
      "Epoch 10/50\n",
      "375/375 [==============================] - 3s 8ms/step - loss: 0.0761 - accuracy: 0.9769 - val_loss: 0.1066 - val_accuracy: 0.9762\n",
      "Epoch 11/50\n",
      "375/375 [==============================] - 3s 7ms/step - loss: 0.0738 - accuracy: 0.9776 - val_loss: 0.1007 - val_accuracy: 0.9775\n",
      "Epoch 12/50\n",
      "375/375 [==============================] - 2s 6ms/step - loss: 0.0734 - accuracy: 0.9782 - val_loss: 0.1097 - val_accuracy: 0.9751\n",
      "Epoch 13/50\n",
      "375/375 [==============================] - 2s 6ms/step - loss: 0.0735 - accuracy: 0.9777 - val_loss: 0.1113 - val_accuracy: 0.9764\n",
      "Epoch 14/50\n",
      "375/375 [==============================] - 2s 6ms/step - loss: 0.0697 - accuracy: 0.9797 - val_loss: 0.1131 - val_accuracy: 0.9748\n",
      "Epoch 15/50\n",
      "375/375 [==============================] - 2s 6ms/step - loss: 0.0664 - accuracy: 0.9800 - val_loss: 0.1171 - val_accuracy: 0.9747\n",
      "Epoch 16/50\n",
      "375/375 [==============================] - 4s 10ms/step - loss: 0.0690 - accuracy: 0.9795 - val_loss: 0.1215 - val_accuracy: 0.9748\n",
      "Epoch 17/50\n",
      "375/375 [==============================] - 4s 10ms/step - loss: 0.0672 - accuracy: 0.9803 - val_loss: 0.1141 - val_accuracy: 0.9764\n",
      "Epoch 18/50\n",
      "375/375 [==============================] - 4s 11ms/step - loss: 0.0645 - accuracy: 0.9808 - val_loss: 0.1146 - val_accuracy: 0.9774\n",
      "Epoch 19/50\n",
      "375/375 [==============================] - 4s 10ms/step - loss: 0.0662 - accuracy: 0.9815 - val_loss: 0.1184 - val_accuracy: 0.9760\n",
      "Epoch 20/50\n",
      "375/375 [==============================] - 4s 10ms/step - loss: 0.0611 - accuracy: 0.9825 - val_loss: 0.1194 - val_accuracy: 0.9772\n",
      "Epoch 21/50\n",
      "375/375 [==============================] - 4s 10ms/step - loss: 0.0653 - accuracy: 0.9816 - val_loss: 0.1251 - val_accuracy: 0.9763\n",
      "Epoch 22/50\n",
      "375/375 [==============================] - 4s 11ms/step - loss: 0.0604 - accuracy: 0.9819 - val_loss: 0.1190 - val_accuracy: 0.9775\n",
      "Epoch 23/50\n",
      "375/375 [==============================] - 4s 11ms/step - loss: 0.0615 - accuracy: 0.9815 - val_loss: 0.1259 - val_accuracy: 0.9770\n",
      "Epoch 24/50\n",
      "375/375 [==============================] - 4s 11ms/step - loss: 0.0600 - accuracy: 0.9828 - val_loss: 0.1285 - val_accuracy: 0.9755\n",
      "Epoch 25/50\n",
      "375/375 [==============================] - 4s 10ms/step - loss: 0.0608 - accuracy: 0.9829 - val_loss: 0.1296 - val_accuracy: 0.9771\n",
      "Epoch 26/50\n",
      "375/375 [==============================] - 4s 10ms/step - loss: 0.0566 - accuracy: 0.9831 - val_loss: 0.1292 - val_accuracy: 0.9781\n",
      "Epoch 27/50\n",
      "375/375 [==============================] - 4s 11ms/step - loss: 0.0606 - accuracy: 0.9828 - val_loss: 0.1298 - val_accuracy: 0.9772\n",
      "Epoch 28/50\n",
      "375/375 [==============================] - 4s 10ms/step - loss: 0.0599 - accuracy: 0.9824 - val_loss: 0.1317 - val_accuracy: 0.9772\n",
      "Epoch 29/50\n",
      "375/375 [==============================] - 4s 10ms/step - loss: 0.0573 - accuracy: 0.9845 - val_loss: 0.1368 - val_accuracy: 0.9775\n",
      "Epoch 30/50\n",
      "375/375 [==============================] - 4s 11ms/step - loss: 0.0568 - accuracy: 0.9844 - val_loss: 0.1334 - val_accuracy: 0.9781\n",
      "Epoch 31/50\n",
      "375/375 [==============================] - 4s 10ms/step - loss: 0.0582 - accuracy: 0.9836 - val_loss: 0.1356 - val_accuracy: 0.9788\n",
      "Epoch 32/50\n",
      "375/375 [==============================] - 4s 11ms/step - loss: 0.0572 - accuracy: 0.9839 - val_loss: 0.1394 - val_accuracy: 0.9782\n",
      "Epoch 33/50\n",
      "375/375 [==============================] - 4s 11ms/step - loss: 0.0594 - accuracy: 0.9837 - val_loss: 0.1360 - val_accuracy: 0.9786\n",
      "Epoch 34/50\n",
      "375/375 [==============================] - 4s 10ms/step - loss: 0.0572 - accuracy: 0.9835 - val_loss: 0.1445 - val_accuracy: 0.9779\n",
      "Epoch 35/50\n",
      "375/375 [==============================] - 3s 8ms/step - loss: 0.0584 - accuracy: 0.9839 - val_loss: 0.1378 - val_accuracy: 0.9778\n",
      "Epoch 36/50\n",
      "375/375 [==============================] - 4s 11ms/step - loss: 0.0557 - accuracy: 0.9839 - val_loss: 0.1527 - val_accuracy: 0.9764\n",
      "Epoch 37/50\n",
      "375/375 [==============================] - 3s 9ms/step - loss: 0.0540 - accuracy: 0.9855 - val_loss: 0.1521 - val_accuracy: 0.9784\n",
      "Epoch 38/50\n",
      "375/375 [==============================] - 4s 11ms/step - loss: 0.0525 - accuracy: 0.9854 - val_loss: 0.1481 - val_accuracy: 0.9793\n",
      "Epoch 39/50\n",
      "375/375 [==============================] - 3s 9ms/step - loss: 0.0535 - accuracy: 0.9852 - val_loss: 0.1506 - val_accuracy: 0.9778\n",
      "Epoch 40/50\n",
      "375/375 [==============================] - 3s 7ms/step - loss: 0.0527 - accuracy: 0.9862 - val_loss: 0.1501 - val_accuracy: 0.9762\n",
      "Epoch 41/50\n",
      "375/375 [==============================] - 2s 6ms/step - loss: 0.0532 - accuracy: 0.9852 - val_loss: 0.1621 - val_accuracy: 0.9776\n",
      "Epoch 42/50\n",
      "375/375 [==============================] - 2s 6ms/step - loss: 0.0538 - accuracy: 0.9854 - val_loss: 0.1575 - val_accuracy: 0.9787\n",
      "Epoch 43/50\n",
      "375/375 [==============================] - 2s 5ms/step - loss: 0.0564 - accuracy: 0.9849 - val_loss: 0.1584 - val_accuracy: 0.9769\n",
      "Epoch 44/50\n",
      "375/375 [==============================] - 2s 5ms/step - loss: 0.0534 - accuracy: 0.9856 - val_loss: 0.1621 - val_accuracy: 0.9764\n",
      "Epoch 45/50\n",
      "375/375 [==============================] - 2s 4ms/step - loss: 0.0537 - accuracy: 0.9852 - val_loss: 0.1607 - val_accuracy: 0.9778\n",
      "Epoch 46/50\n",
      "375/375 [==============================] - 2s 4ms/step - loss: 0.0536 - accuracy: 0.9861 - val_loss: 0.1523 - val_accuracy: 0.9788\n",
      "Epoch 47/50\n",
      "375/375 [==============================] - 4s 11ms/step - loss: 0.0524 - accuracy: 0.9861 - val_loss: 0.1507 - val_accuracy: 0.9793\n",
      "Epoch 48/50\n",
      "375/375 [==============================] - 4s 11ms/step - loss: 0.0534 - accuracy: 0.9856 - val_loss: 0.1504 - val_accuracy: 0.9785\n",
      "Epoch 49/50\n",
      "375/375 [==============================] - 3s 9ms/step - loss: 0.0507 - accuracy: 0.9862 - val_loss: 0.1599 - val_accuracy: 0.9784\n",
      "Epoch 50/50\n",
      "375/375 [==============================] - 3s 8ms/step - loss: 0.0494 - accuracy: 0.9862 - val_loss: 0.1636 - val_accuracy: 0.9787\n"
     ]
    },
    {
     "output_type": "execute_result",
     "data": {
      "text/plain": [
       "<tensorflow.python.keras.callbacks.History at 0x25eeb193780>"
      ]
     },
     "metadata": {},
     "execution_count": 12
    }
   ],
   "source": [
    "#Training the model\n",
    "EPOCHS = 50\n",
    "model.fit(X_train, Y_train, batch_size=BATCH_SIZE, epochs=EPOCHS, verbose=1, validation_split=VALIDATION_SPLIT)"
   ]
  },
  {
   "cell_type": "code",
   "execution_count": 13,
   "metadata": {},
   "outputs": [
    {
     "output_type": "stream",
     "name": "stdout",
     "text": [
      "313/313 [==============================] - 1s 3ms/step - loss: 0.1314 - accuracy: 0.9798\n",
      "Test Accuracy 0.9797999858856201\n"
     ]
    }
   ],
   "source": [
    "model_loss, model_acc = model.evaluate(X_test, Y_test)\n",
    "print(\"Test Accuracy\", model_acc)"
   ]
  },
  {
   "cell_type": "code",
   "execution_count": 17,
   "metadata": {},
   "outputs": [
    {
     "output_type": "stream",
     "name": "stdout",
     "text": [
      "Epoch 1/50\n",
      "375/375 [==============================] - 5s 11ms/step - loss: 0.0613 - accuracy: 0.9852 - val_loss: 0.1457 - val_accuracy: 0.9771\n",
      "Epoch 2/50\n",
      "375/375 [==============================] - 3s 9ms/step - loss: 0.0575 - accuracy: 0.9840 - val_loss: 0.1275 - val_accuracy: 0.9792\n",
      "Epoch 3/50\n",
      "375/375 [==============================] - 4s 9ms/step - loss: 0.0515 - accuracy: 0.9837 - val_loss: 0.1382 - val_accuracy: 0.9766\n",
      "Epoch 4/50\n",
      "375/375 [==============================] - 4s 9ms/step - loss: 0.0538 - accuracy: 0.9836 - val_loss: 0.1236 - val_accuracy: 0.9788\n",
      "Epoch 5/50\n",
      "375/375 [==============================] - 4s 9ms/step - loss: 0.0503 - accuracy: 0.9848 - val_loss: 0.1266 - val_accuracy: 0.9777\n",
      "Epoch 6/50\n",
      "375/375 [==============================] - 3s 9ms/step - loss: 0.0456 - accuracy: 0.9858 - val_loss: 0.1244 - val_accuracy: 0.9775\n",
      "Epoch 7/50\n",
      "375/375 [==============================] - 4s 10ms/step - loss: 0.0424 - accuracy: 0.9868 - val_loss: 0.1218 - val_accuracy: 0.9780\n",
      "Epoch 8/50\n",
      "375/375 [==============================] - 4s 9ms/step - loss: 0.0435 - accuracy: 0.9870 - val_loss: 0.1195 - val_accuracy: 0.9780\n",
      "Epoch 9/50\n",
      "375/375 [==============================] - 3s 9ms/step - loss: 0.0446 - accuracy: 0.9864 - val_loss: 0.1157 - val_accuracy: 0.9784\n",
      "Epoch 10/50\n",
      "375/375 [==============================] - 4s 10ms/step - loss: 0.0465 - accuracy: 0.9853 - val_loss: 0.1158 - val_accuracy: 0.9792\n",
      "Epoch 11/50\n",
      "375/375 [==============================] - 4s 10ms/step - loss: 0.0419 - accuracy: 0.9874 - val_loss: 0.1177 - val_accuracy: 0.9779\n",
      "Epoch 12/50\n",
      "375/375 [==============================] - 4s 10ms/step - loss: 0.0430 - accuracy: 0.9871 - val_loss: 0.1213 - val_accuracy: 0.9781\n",
      "Epoch 13/50\n",
      "375/375 [==============================] - 3s 9ms/step - loss: 0.0366 - accuracy: 0.9880 - val_loss: 0.1108 - val_accuracy: 0.9789\n",
      "Epoch 14/50\n",
      "375/375 [==============================] - 3s 8ms/step - loss: 0.0411 - accuracy: 0.9870 - val_loss: 0.1155 - val_accuracy: 0.9782\n",
      "Epoch 15/50\n",
      "375/375 [==============================] - 3s 7ms/step - loss: 0.0391 - accuracy: 0.9879 - val_loss: 0.1117 - val_accuracy: 0.9793\n",
      "Epoch 16/50\n",
      "375/375 [==============================] - 2s 6ms/step - loss: 0.0421 - accuracy: 0.9868 - val_loss: 0.1130 - val_accuracy: 0.9783\n",
      "Epoch 17/50\n",
      "375/375 [==============================] - 2s 6ms/step - loss: 0.0387 - accuracy: 0.9872 - val_loss: 0.1092 - val_accuracy: 0.9808\n",
      "Epoch 18/50\n",
      "375/375 [==============================] - 2s 6ms/step - loss: 0.0387 - accuracy: 0.9878 - val_loss: 0.1165 - val_accuracy: 0.9797\n",
      "Epoch 19/50\n",
      "375/375 [==============================] - 2s 6ms/step - loss: 0.0382 - accuracy: 0.9878 - val_loss: 0.1115 - val_accuracy: 0.9791\n",
      "Epoch 20/50\n",
      "375/375 [==============================] - 2s 5ms/step - loss: 0.0352 - accuracy: 0.9886 - val_loss: 0.1127 - val_accuracy: 0.9783\n",
      "Epoch 21/50\n",
      "375/375 [==============================] - 1s 4ms/step - loss: 0.0334 - accuracy: 0.9890 - val_loss: 0.1048 - val_accuracy: 0.9783\n",
      "Epoch 22/50\n",
      "375/375 [==============================] - 1s 4ms/step - loss: 0.0351 - accuracy: 0.9888 - val_loss: 0.1124 - val_accuracy: 0.9793\n",
      "Epoch 23/50\n",
      "375/375 [==============================] - 1s 4ms/step - loss: 0.0349 - accuracy: 0.9892 - val_loss: 0.1088 - val_accuracy: 0.9793\n",
      "Epoch 24/50\n",
      "375/375 [==============================] - 1s 4ms/step - loss: 0.0337 - accuracy: 0.9888 - val_loss: 0.1144 - val_accuracy: 0.9796\n",
      "Epoch 25/50\n",
      "375/375 [==============================] - 1s 4ms/step - loss: 0.0333 - accuracy: 0.9895 - val_loss: 0.1111 - val_accuracy: 0.9790\n",
      "Epoch 26/50\n",
      "375/375 [==============================] - 2s 4ms/step - loss: 0.0346 - accuracy: 0.9890 - val_loss: 0.1140 - val_accuracy: 0.9801\n",
      "Epoch 27/50\n",
      "375/375 [==============================] - 4s 10ms/step - loss: 0.0336 - accuracy: 0.9901 - val_loss: 0.1134 - val_accuracy: 0.9787\n",
      "Epoch 28/50\n",
      "375/375 [==============================] - 4s 10ms/step - loss: 0.0331 - accuracy: 0.9894 - val_loss: 0.1079 - val_accuracy: 0.9790\n",
      "Epoch 29/50\n",
      "375/375 [==============================] - 4s 9ms/step - loss: 0.0340 - accuracy: 0.9892 - val_loss: 0.1244 - val_accuracy: 0.9784\n",
      "Epoch 30/50\n",
      "375/375 [==============================] - 4s 9ms/step - loss: 0.0320 - accuracy: 0.9897 - val_loss: 0.1163 - val_accuracy: 0.9781\n",
      "Epoch 31/50\n",
      "375/375 [==============================] - 3s 9ms/step - loss: 0.0305 - accuracy: 0.9903 - val_loss: 0.1110 - val_accuracy: 0.9793\n",
      "Epoch 32/50\n",
      "375/375 [==============================] - 3s 7ms/step - loss: 0.0307 - accuracy: 0.9894 - val_loss: 0.1045 - val_accuracy: 0.9800\n",
      "Epoch 33/50\n",
      "375/375 [==============================] - 2s 7ms/step - loss: 0.0297 - accuracy: 0.9900 - val_loss: 0.1120 - val_accuracy: 0.9782\n",
      "Epoch 34/50\n",
      "375/375 [==============================] - 2s 6ms/step - loss: 0.0291 - accuracy: 0.9904 - val_loss: 0.1095 - val_accuracy: 0.9792\n",
      "Epoch 35/50\n",
      "375/375 [==============================] - 2s 6ms/step - loss: 0.0300 - accuracy: 0.9900 - val_loss: 0.1142 - val_accuracy: 0.9795\n",
      "Epoch 36/50\n",
      "375/375 [==============================] - 2s 6ms/step - loss: 0.0334 - accuracy: 0.9893 - val_loss: 0.1135 - val_accuracy: 0.9787\n",
      "Epoch 37/50\n",
      "375/375 [==============================] - 2s 6ms/step - loss: 0.0293 - accuracy: 0.9906 - val_loss: 0.1129 - val_accuracy: 0.9793\n",
      "Epoch 38/50\n",
      "375/375 [==============================] - 2s 5ms/step - loss: 0.0297 - accuracy: 0.9900 - val_loss: 0.1065 - val_accuracy: 0.9805\n",
      "Epoch 39/50\n",
      "375/375 [==============================] - 2s 5ms/step - loss: 0.0306 - accuracy: 0.9894 - val_loss: 0.1112 - val_accuracy: 0.9800\n",
      "Epoch 40/50\n",
      "375/375 [==============================] - 2s 5ms/step - loss: 0.0297 - accuracy: 0.9898 - val_loss: 0.1133 - val_accuracy: 0.9797\n",
      "Epoch 41/50\n",
      "375/375 [==============================] - 2s 5ms/step - loss: 0.0266 - accuracy: 0.9915 - val_loss: 0.1154 - val_accuracy: 0.9787\n",
      "Epoch 42/50\n",
      "375/375 [==============================] - 2s 5ms/step - loss: 0.0260 - accuracy: 0.9916 - val_loss: 0.1074 - val_accuracy: 0.9789\n",
      "Epoch 43/50\n",
      "375/375 [==============================] - 2s 5ms/step - loss: 0.0312 - accuracy: 0.9904 - val_loss: 0.1166 - val_accuracy: 0.9800\n",
      "Epoch 44/50\n",
      "375/375 [==============================] - 2s 5ms/step - loss: 0.0277 - accuracy: 0.9908 - val_loss: 0.1130 - val_accuracy: 0.9784\n",
      "Epoch 45/50\n",
      "375/375 [==============================] - 2s 5ms/step - loss: 0.0269 - accuracy: 0.9915 - val_loss: 0.1206 - val_accuracy: 0.9781\n",
      "Epoch 46/50\n",
      "375/375 [==============================] - 2s 4ms/step - loss: 0.0260 - accuracy: 0.9915 - val_loss: 0.1127 - val_accuracy: 0.9791\n",
      "Epoch 47/50\n",
      "375/375 [==============================] - 1s 4ms/step - loss: 0.0293 - accuracy: 0.9910 - val_loss: 0.1140 - val_accuracy: 0.9789\n",
      "Epoch 48/50\n",
      "375/375 [==============================] - 1s 4ms/step - loss: 0.0281 - accuracy: 0.9909 - val_loss: 0.1223 - val_accuracy: 0.9787\n",
      "Epoch 49/50\n",
      "375/375 [==============================] - 1s 4ms/step - loss: 0.0250 - accuracy: 0.9920 - val_loss: 0.1105 - val_accuracy: 0.9791\n",
      "Epoch 50/50\n",
      "375/375 [==============================] - 1s 4ms/step - loss: 0.0254 - accuracy: 0.9917 - val_loss: 0.1218 - val_accuracy: 0.9794\n",
      "313/313 [==============================] - 0s 1ms/step - loss: 0.0978 - accuracy: 0.9803\n",
      "Test Accuracy 0.9803000092506409\n"
     ]
    }
   ],
   "source": [
    "model.compile(\n",
    "    optimizer=\"Adam\",\n",
    "    loss=\"categorical_crossentropy\",\n",
    "    metrics=[\"accuracy\"]\n",
    ")\n",
    "\n",
    "#Training the model\n",
    "EPOCHS = 50\n",
    "model.fit(X_train, Y_train, batch_size=BATCH_SIZE, epochs=EPOCHS, verbose=1, validation_split=VALIDATION_SPLIT)\n",
    "\n",
    "model_loss, model_acc = model.evaluate(X_test, Y_test)\n",
    "print(\"Test Accuracy\", model_acc)"
   ]
  },
  {
   "cell_type": "code",
   "execution_count": null,
   "metadata": {},
   "outputs": [],
   "source": []
  }
 ],
 "metadata": {
  "kernelspec": {
   "display_name": "Python 3",
   "language": "python",
   "name": "python3"
  },
  "language_info": {
   "codemirror_mode": {
    "name": "ipython",
    "version": 3
   },
   "file_extension": ".py",
   "mimetype": "text/x-python",
   "name": "python",
   "nbconvert_exporter": "python",
   "pygments_lexer": "ipython3",
   "version": "3.7.3-final"
  },
  "toc": {
   "base_numbering": 1,
   "nav_menu": {},
   "number_sections": true,
   "sideBar": true,
   "skip_h1_title": false,
   "title_cell": "Table of Contents",
   "title_sidebar": "Contents",
   "toc_cell": false,
   "toc_position": {},
   "toc_section_display": true,
   "toc_window_display": false
  }
 },
 "nbformat": 4,
 "nbformat_minor": 2
}